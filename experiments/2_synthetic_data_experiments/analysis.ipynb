{
 "cells": [
  {
   "cell_type": "code",
   "execution_count": null,
   "metadata": {},
   "outputs": [],
   "source": [
    "import mlflow\n",
    "import datetime\n",
    "\n",
    "experiment_id = '717746269708392697' # TODO update ID if it changes\n",
    "\n",
    "mlflow.set_tracking_uri(\"../../mlruns\")\n",
    "\n",
    "runs = mlflow.search_runs(experiment_ids=[experiment_id])\n",
    "\n",
    "failed_runs = len(runs[runs['status']=='FAILED'][['params.model']])\n",
    "print(\"{} experiment runs failed ({}% of total)\".format(failed_runs, failed_runs/len(runs)*100))"
   ]
  },
  {
   "cell_type": "code",
   "execution_count": null,
   "metadata": {},
   "outputs": [],
   "source": [
    "timestamp = datetime.datetime.now().strftime(\"%Y%m%d-%H%M%S\")\n",
    "runs.to_csv(f'results-main-{timestamp}.csv', index=None)\n",
    "print(timestamp)"
   ]
  },
  {
   "cell_type": "code",
   "execution_count": null,
   "metadata": {},
   "outputs": [],
   "source": [
    "tmp = runs['params.datafile'].str.split('/').str[-1].str.split('_')\n",
    "runs['experiment_variable'] = tmp.str[1].tolist()\n",
    "runs['experiment_variable_value'] = tmp.str[2].tolist()\n",
    "runs['trial'] = tmp.str[4].tolist()\n",
    "runs = runs.rename(columns={'tags.mlflow.project.entryPoint':'method'})"
   ]
  },
  {
   "cell_type": "code",
   "execution_count": null,
   "metadata": {},
   "outputs": [],
   "source": [
    "results = runs[['method','experiment_variable','experiment_variable_value','trial','status','metrics.RMSE_avg_val','metrics.RMSE_avg_test','params.outprefix','params.datafile']]\n",
    "results"
   ]
  },
  {
   "cell_type": "markdown",
   "metadata": {},
   "source": [
    "### Check if any failed runs"
   ]
  },
  {
   "cell_type": "code",
   "execution_count": null,
   "metadata": {},
   "outputs": [],
   "source": [
    "results[results['status']=='FAILED'].groupby(['method','experiment_variable','experiment_variable_value']).count()"
   ]
  },
  {
   "cell_type": "code",
   "execution_count": null,
   "metadata": {},
   "outputs": [],
   "source": [
    "results = results[results['status']=='FINISHED']"
   ]
  },
  {
   "cell_type": "markdown",
   "metadata": {},
   "source": [
    "## Utility functions"
   ]
  },
  {
   "cell_type": "code",
   "execution_count": null,
   "metadata": {},
   "outputs": [],
   "source": [
    "import seaborn as sns\n",
    "import matplotlib.pyplot as plt\n",
    "import matplotlib.ticker as ticker\n",
    "import sys\n",
    "sys.path.append(\"..\")\n",
    "from f1_score_utils import get_f1_scores\n",
    "\n",
    "sns.set_style(\"whitegrid\")\n",
    "\n",
    "method_names = {'global_bnn_model':'Global BNN baseline',\n",
    "                'global_bnn_model_large':'Global BNN baseline (large)', \n",
    "                'individual_bnn_model':'Local BNNs baseline', \n",
    "                'bayesian_metalearner_model':'Meta-learning baseline',\n",
    "                'hsml_model':'HSML',\n",
    "                'tsa_maml_model':'TSA-MAML',\n",
    "                'our_method_known_causal_structure':'Our method (ground truth reference)',\n",
    "                'our_method_unknown_causal_structure':'Our method',\n",
    "                'our_method_unknown_causal_structure_diagnostic':'Our method (diagnostic)'}\n",
    "\n",
    "colors = {'Global BNN baseline':'tab:brown', \n",
    "          'Global BNN baseline (large)':'tab:blue',\n",
    "          'Local BNNs baseline':'tab:pink', \n",
    "          'Meta-learning baseline':'tab:olive', \n",
    "          'HSML':'tab:cyan',\n",
    "          'TSA-MAML':'tab:orange',\n",
    "          'Our method (ground truth reference)':'tab:red', \n",
    "          'Our method':'tab:grey', \n",
    "          'Our method (diagnostic)':'tab:purple'}\n",
    "\n",
    "\n",
    "def get_results_for_experiment(results, experiment_variable, is_int=True):\n",
    "    \"\"\"Get the data for the experiment corresponding to the experiment variable\n",
    "    \"\"\"\n",
    "    exp_results = results[results['experiment_variable']==experiment_variable]\n",
    "    # get best result for each trial, based on performance for validation set\n",
    "    exp_results = exp_results[['method','experiment_variable_value','trial','metrics.RMSE_avg_val','metrics.RMSE_avg_test','params.outprefix','params.datafile']].sort_values(by='metrics.RMSE_avg_val').groupby(['method','experiment_variable_value','trial']).first().reset_index()\n",
    "    exp_results = exp_results.rename(columns={'experiment_variable_value':experiment_variable})\n",
    "    if is_int: exp_results[experiment_variable] = exp_results[experiment_variable].astype(float)\n",
    "    exp_results['metrics.RMSE_avg_test'] = exp_results['metrics.RMSE_avg_test'].astype(float)\n",
    "    exp_results['method'] = exp_results['method'].map(method_names)\n",
    "    return exp_results\n",
    "\n",
    "    \n",
    "def get_causal_group_accuracy(exp_results, experiment_variable):\n",
    "    \"\"\"Get the F1 scores for accuracy of causal group identifiability\n",
    "    \"\"\"\n",
    "    method = 'Our method'\n",
    "    our_results = exp_results[exp_results['method']==method]\n",
    "\n",
    "    our_results['casualassignment_final_path'] = '../../' + our_results['params.outprefix'] + '_causal_assignments_final.csv'\n",
    "    our_results['groundtruth_path'] = our_results['params.datafile'].str[0:-8] + 'task_metadata.csv'\n",
    "\n",
    "    f1_final_train_list = []\n",
    "    f1_final_val_test_list = []\n",
    "\n",
    "    for idx, row in our_results.iterrows():\n",
    "        if experiment_variable=='N': num_train_tasks = int(row['N'])\n",
    "        else: num_train_tasks = 200\n",
    "        f1_final_train, f1_final_val_test = get_f1_scores(row['casualassignment_final_path'], row['groundtruth_path'], num_train_tasks=num_train_tasks)\n",
    "        f1_final_train_list.append(f1_final_train)\n",
    "        f1_final_val_test_list.append(f1_final_val_test)\n",
    "\n",
    "    our_results['f1_final_train'] = f1_final_train_list\n",
    "    our_results['f1_final_val_test'] = f1_final_val_test_list\n",
    "    return our_results\n"
   ]
  },
  {
   "cell_type": "markdown",
   "metadata": {},
   "source": [
    "## Results"
   ]
  },
  {
   "cell_type": "code",
   "execution_count": null,
   "metadata": {},
   "outputs": [],
   "source": [
    "experiment_variable='C'\n",
    "exp_results = get_results_for_experiment(results, experiment_variable)\n",
    "exp_results.to_csv(f'results-data-for-RMSE-plot-{experiment_variable}-{timestamp}.csv', index=None)\n",
    "exp_results"
   ]
  },
  {
   "cell_type": "code",
   "execution_count": null,
   "metadata": {},
   "outputs": [],
   "source": [
    "f1_results = get_causal_group_accuracy(exp_results, experiment_variable)\n",
    "f1_results.to_csv(f'results-data-for-f1-plot-{experiment_variable}-{timestamp}.csv', index=None)\n",
    "f1_results"
   ]
  },
  {
   "cell_type": "code",
   "execution_count": null,
   "metadata": {},
   "outputs": [],
   "source": [
    "experiment_variable='eta'\n",
    "exp_results = get_results_for_experiment(results, experiment_variable)\n",
    "exp_results.to_csv(f'results-data-for-RMSE-plot-{experiment_variable}-{timestamp}.csv', index=None)\n",
    "exp_results"
   ]
  },
  {
   "cell_type": "code",
   "execution_count": null,
   "metadata": {},
   "outputs": [],
   "source": [
    "f1_results = get_causal_group_accuracy(exp_results, experiment_variable)\n",
    "f1_results.to_csv(f'results-data-for-f1-plot-{experiment_variable}-{timestamp}.csv', index=None)\n",
    "f1_results"
   ]
  },
  {
   "cell_type": "code",
   "execution_count": null,
   "metadata": {},
   "outputs": [],
   "source": [
    "experiment_variable='N'\n",
    "exp_results = get_results_for_experiment(results, experiment_variable)\n",
    "exp_results.to_csv(f'results-data-for-RMSE-plot-{experiment_variable}-{timestamp}.csv', index=None)\n",
    "exp_results"
   ]
  },
  {
   "cell_type": "code",
   "execution_count": null,
   "metadata": {},
   "outputs": [],
   "source": [
    "f1_results = get_causal_group_accuracy(exp_results, experiment_variable)\n",
    "f1_results.to_csv(f'results-data-for-f1-plot-{experiment_variable}-{timestamp}.csv', index=None)\n",
    "f1_results"
   ]
  },
  {
   "cell_type": "code",
   "execution_count": null,
   "metadata": {},
   "outputs": [],
   "source": [
    "experiment_variable='M'\n",
    "exp_results = get_results_for_experiment(results, experiment_variable)\n",
    "exp_results.to_csv(f'results-data-for-RMSE-plot-{experiment_variable}-{timestamp}.csv', index=None)\n",
    "exp_results"
   ]
  },
  {
   "cell_type": "code",
   "execution_count": null,
   "metadata": {},
   "outputs": [],
   "source": [
    "f1_results = get_causal_group_accuracy(exp_results, experiment_variable)\n",
    "f1_results.to_csv(f'results-data-for-f1-plot-{experiment_variable}-{timestamp}.csv', index=None)\n",
    "f1_results"
   ]
  },
  {
   "cell_type": "code",
   "execution_count": null,
   "metadata": {},
   "outputs": [],
   "source": [
    "experiment_variable='intervp'\n",
    "exp_results = get_results_for_experiment(results, experiment_variable)\n",
    "exp_results['intervp'] = exp_results['intervp'].map({0.3:0.7, 0.7:0.3}) # q is defined as 1-p\n",
    "exp_results.to_csv(f'results-data-for-RMSE-plot-{experiment_variable}-{timestamp}.csv', index=None)\n",
    "exp_results"
   ]
  },
  {
   "cell_type": "code",
   "execution_count": null,
   "metadata": {},
   "outputs": [],
   "source": [
    "f1_results = get_causal_group_accuracy(exp_results, experiment_variable)\n",
    "f1_results.to_csv(f'results-data-for-f1-plot-{experiment_variable}-{timestamp}.csv', index=None)\n",
    "f1_results"
   ]
  },
  {
   "cell_type": "code",
   "execution_count": null,
   "metadata": {},
   "outputs": [],
   "source": []
  }
 ],
 "metadata": {
  "kernelspec": {
   "display_name": "base_ml",
   "language": "python",
   "name": "base_ml"
  },
  "language_info": {
   "codemirror_mode": {
    "name": "ipython",
    "version": 3
   },
   "file_extension": ".py",
   "mimetype": "text/x-python",
   "name": "python",
   "nbconvert_exporter": "python",
   "pygments_lexer": "ipython3",
   "version": "3.11.3"
  }
 },
 "nbformat": 4,
 "nbformat_minor": 4
}
