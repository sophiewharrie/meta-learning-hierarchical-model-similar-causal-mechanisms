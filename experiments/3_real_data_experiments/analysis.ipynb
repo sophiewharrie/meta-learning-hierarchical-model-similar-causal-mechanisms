{
 "cells": [
  {
   "cell_type": "code",
   "execution_count": null,
   "metadata": {},
   "outputs": [],
   "source": [
    "import mlflow\n",
    "import datetime\n",
    "\n",
    "experiment_id = '198191907955949949' # TODO update ID if it changes\n",
    "\n",
    "mlflow.set_tracking_uri(\"../../mlruns\")\n",
    "\n",
    "runs = mlflow.search_runs(experiment_ids=[experiment_id])\n",
    "\n",
    "failed_runs = len(runs[runs['status']=='FAILED'][['params.model']])\n",
    "print(\"{} experiment runs failed ({}% of total)\".format(failed_runs, failed_runs/len(runs)*100))"
   ]
  },
  {
   "cell_type": "code",
   "execution_count": null,
   "metadata": {},
   "outputs": [],
   "source": [
    "timestamp = datetime.datetime.now().strftime(\"%Y%m%d-%H%M%S\")\n",
    "runs.to_csv(f'results-main-{timestamp}.csv', index=None)\n",
    "print(timestamp)"
   ]
  },
  {
   "cell_type": "code",
   "execution_count": null,
   "metadata": {},
   "outputs": [],
   "source": [
    "tmp = runs['params.datafile'].str.split('/').str[-1].str.split('_')\n",
    "runs['dataset'] = tmp.str[0].tolist()\n",
    "runs['trial'] = tmp.str[1].str[7].tolist()\n",
    "runs = runs.rename(columns={'tags.mlflow.project.entryPoint':'method'})"
   ]
  },
  {
   "cell_type": "code",
   "execution_count": null,
   "metadata": {},
   "outputs": [],
   "source": [
    "results = runs[['method','dataset','trial','status','metrics.RMSE_avg_val','metrics.RMSE_avg_test']]\n",
    "results"
   ]
  },
  {
   "cell_type": "markdown",
   "metadata": {},
   "source": [
    "### Check if any failed runs"
   ]
  },
  {
   "cell_type": "code",
   "execution_count": null,
   "metadata": {},
   "outputs": [],
   "source": [
    "results[results['status']=='FAILED'].groupby(['method','dataset']).count()"
   ]
  },
  {
   "cell_type": "code",
   "execution_count": null,
   "metadata": {},
   "outputs": [],
   "source": [
    "results = results[results['status']=='FINISHED']"
   ]
  },
  {
   "cell_type": "markdown",
   "metadata": {},
   "source": [
    "## Utility functions"
   ]
  },
  {
   "cell_type": "code",
   "execution_count": null,
   "metadata": {},
   "outputs": [],
   "source": [
    "for dataset in ['medical', 'covid', 'cognition']:\n",
    "    df = results[results['dataset']==dataset].sort_values(by='metrics.RMSE_avg_val').groupby(['dataset','method','trial']).first()\n",
    "    df = df.groupby(['dataset','method'])[['metrics.RMSE_avg_val','metrics.RMSE_avg_test']].agg(['mean', 'std']).reset_index()\n",
    "    df['metrics.RMSE_avg_val_fmt'] = df.apply(lambda x: f\"{x[('metrics.RMSE_avg_val','mean')]:.3f} ({x[('metrics.RMSE_avg_val','std')]:.3f})\", axis=1)\n",
    "    df['metrics.RMSE_avg_test_fmt'] = df.apply(lambda x: f\"{x[('metrics.RMSE_avg_test','mean')]:.3f} ({x[('metrics.RMSE_avg_val','std')]:.3f})\", axis=1)\n",
    "    df = df.sort_values(by=('metrics.RMSE_avg_test','mean'))[['method','metrics.RMSE_avg_val_fmt','metrics.RMSE_avg_test_fmt']]\n",
    "    df.to_csv(f'results-{dataset}-{timestamp}.csv', index=None)\n",
    "    print(dataset)\n",
    "    print(display(df))"
   ]
  },
  {
   "cell_type": "code",
   "execution_count": null,
   "metadata": {},
   "outputs": [],
   "source": []
  }
 ],
 "metadata": {
  "kernelspec": {
   "display_name": "base_ml",
   "language": "python",
   "name": "base_ml"
  },
  "language_info": {
   "codemirror_mode": {
    "name": "ipython",
    "version": 3
   },
   "file_extension": ".py",
   "mimetype": "text/x-python",
   "name": "python",
   "nbconvert_exporter": "python",
   "pygments_lexer": "ipython3",
   "version": "3.11.3"
  }
 },
 "nbformat": 4,
 "nbformat_minor": 4
}
