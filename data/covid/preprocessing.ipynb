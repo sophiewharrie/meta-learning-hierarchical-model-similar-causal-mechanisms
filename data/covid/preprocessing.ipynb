{
 "cells": [
  {
   "cell_type": "code",
   "execution_count": null,
   "metadata": {},
   "outputs": [],
   "source": [
    "import pandas as pd"
   ]
  },
  {
   "cell_type": "markdown",
   "metadata": {},
   "source": [
    "## Covid-19 dataset\n",
    "\n",
    "Downloaded from https://github.com/simonporcher/COVID-19-Governments-Responses"
   ]
  },
  {
   "cell_type": "code",
   "execution_count": null,
   "metadata": {},
   "outputs": [],
   "source": [
    "data = pd.read_excel('Gov_Responses2Covid19_15jul.xlsx', sheet_name='Dataset')\n",
    "interv_variables = ['iso', 'd', 'cases', 'school', 'domestic', 'travel', 'travel_dom', 'curf', 'mass', 'sport', 'rest', 'testing', 'masks', 'surveillance', 'state']\n",
    "data = data[interv_variables]\n",
    "data = data.dropna()\n",
    "\n",
    "data"
   ]
  },
  {
   "cell_type": "code",
   "execution_count": null,
   "metadata": {},
   "outputs": [],
   "source": [
    "# additional fields for countries can be added from IMF data\n",
    "data_tmp = pd.read_excel('WEOApr2023all.xlsx', sheet_name='WEOApr2023all').replace('--',None)[['ISO','Subject Descriptor',2020]]\n",
    "data_tmp = data_tmp[data_tmp['Subject Descriptor']=='Population']\n",
    "data_tmp = data_tmp.pivot(index='ISO',columns='Subject Descriptor',values=2020).reset_index().rename(columns={'ISO':'iso','Population':'pop'})\n",
    "data_tmp['pop'] = data_tmp['pop'].astype(float)\n",
    "data_tmp"
   ]
  },
  {
   "cell_type": "code",
   "execution_count": null,
   "metadata": {},
   "outputs": [],
   "source": [
    "# merge the data sources\n",
    "df = pd.merge(data, data_tmp, on='iso')\n",
    "df['d'] = pd.to_datetime(df['d'])\n",
    "df = df.groupby(['iso', pd.Grouper(key='d', freq='W')]).agg({'cases': 'sum', **{col: 'mean' for col in df.columns if col not in ['cases','iso','d']}}).reset_index()\n",
    "df = df.dropna()\n",
    "df"
   ]
  },
  {
   "cell_type": "code",
   "execution_count": null,
   "metadata": {},
   "outputs": [],
   "source": [
    "# add variable that captures weeks since start of pandemic (i.e. because cases may be expected to increase/decrease over time)\n",
    "df['week'] = df['d'].dt.isocalendar().week\n",
    "\n",
    "# order values by country and week number\n",
    "df = df.sort_values(by=['iso','week'])\n",
    "\n",
    "# convert the task column to indices\n",
    "task_map = dict(zip(df['iso'].unique(), range(len(df['iso'].unique()))))\n",
    "df['task'] = df['iso'].map(task_map)\n",
    "\n",
    "# drop columns not needed anymore\n",
    "df = df.drop(columns=['d', 'iso'])\n",
    "\n",
    "# rename the label column and feature columns\n",
    "df = df.rename(columns={'cases':'Y'})\n",
    "df = df.rename(columns={feature:'X_{}'.format(feature) for feature in df.keys() if feature not in ['Y','task']})\n",
    "\n",
    "df"
   ]
  },
  {
   "cell_type": "code",
   "execution_count": null,
   "metadata": {},
   "outputs": [],
   "source": [
    "import sys\n",
    "sys.path.insert(1, '../')\n",
    "from utils import get_train_val_test_data\n",
    "\n",
    "NUM_DATASETS = 6\n",
    "DATASET_NAME = 'covid'\n",
    "INTERVENTIONS = ['X_school', 'X_domestic', 'X_travel', 'X_travel_dom', 'X_curf', 'X_mass', 'X_sport', 'X_rest', 'X_testing', 'X_masks', 'X_surveilliance', 'X_state']\n",
    "\n",
    "# run utility function to create train/val/test splits\n",
    "full_datasets, full_interv_masks = get_train_val_test_data(df, NUM_DATASETS, INTERVENTIONS)\n",
    "\n",
    "for dataset in range(NUM_DATASETS):\n",
    "    full_datasets[dataset].to_csv(f'{DATASET_NAME}_dataset{dataset}.csv', index=None)\n",
    "    full_interv_masks[dataset].to_csv(f'{DATASET_NAME}_dataset{dataset}_mask.csv', index=None)"
   ]
  },
  {
   "cell_type": "code",
   "execution_count": null,
   "metadata": {},
   "outputs": [],
   "source": []
  }
 ],
 "metadata": {
  "kernelspec": {
   "display_name": "base_ml",
   "language": "python",
   "name": "base_ml"
  },
  "language_info": {
   "codemirror_mode": {
    "name": "ipython",
    "version": 3
   },
   "file_extension": ".py",
   "mimetype": "text/x-python",
   "name": "python",
   "nbconvert_exporter": "python",
   "pygments_lexer": "ipython3",
   "version": "3.11.3"
  }
 },
 "nbformat": 4,
 "nbformat_minor": 4
}
