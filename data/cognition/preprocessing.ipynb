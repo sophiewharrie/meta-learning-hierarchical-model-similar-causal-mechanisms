{
 "cells": [
  {
   "cell_type": "code",
   "execution_count": null,
   "metadata": {},
   "outputs": [],
   "source": [
    "import pandas as pd"
   ]
  },
  {
   "cell_type": "markdown",
   "metadata": {},
   "source": [
    "## Cognition dataset\n",
    "\n",
    "Downloaded from https://github.com/MartinGjoreski/martingjoreski.github.io/blob/master/files/CogDatasets.rar"
   ]
  },
  {
   "cell_type": "code",
   "execution_count": null,
   "metadata": {},
   "outputs": [],
   "source": [
    "data = pd.read_csv('raw_data/personality.csv')\n",
    "data"
   ]
  },
  {
   "cell_type": "code",
   "execution_count": null,
   "metadata": {},
   "outputs": [],
   "source": [
    "df = pd.DataFrame()\n",
    "users = data['user_id'].tolist()\n",
    "num_rows = 240\n",
    "for user_id in users:\n",
    "    user_df = pd.read_csv('raw_data/{}_sensors.csv'.format(user_id))\n",
    "    user_df = user_df[['user_id','level','hr','gsr','rr','temperature','click_per_second','points']].dropna()\n",
    "    # merge with personality traits\n",
    "    user_df = pd.merge(user_df, data, on='user_id', how='left')\n",
    "    user_df = user_df[0:num_rows]\n",
    "    print(\"adding {} rows for user {}\".format(len(user_df), user_id))\n",
    "    df = pd.concat([df, user_df])"
   ]
  },
  {
   "cell_type": "code",
   "execution_count": null,
   "metadata": {},
   "outputs": [],
   "source": [
    "df = pd.concat([df, pd.get_dummies(df['level'], prefix='level')], axis=1).drop(columns='level')"
   ]
  },
  {
   "cell_type": "code",
   "execution_count": null,
   "metadata": {},
   "outputs": [],
   "source": [
    "# convert the task column to indices\n",
    "task_map = dict(zip(df['user_id'].unique(), range(len(df['user_id'].unique()))))\n",
    "df['task'] = df['user_id'].map(task_map)\n",
    "\n",
    "# drop columns not needed anymore\n",
    "df = df.drop(columns=['user_id'])\n",
    "\n",
    "# rename the label column and feature columns\n",
    "df = df.rename(columns={'points':'Y'})\n",
    "df = df.rename(columns={feature:'X_{}'.format(feature) for feature in df.keys() if feature not in ['Y','task']})\n",
    "\n",
    "# order values by task\n",
    "df = df.sort_values(by=['task'])\n"
   ]
  },
  {
   "cell_type": "code",
   "execution_count": null,
   "metadata": {},
   "outputs": [],
   "source": [
    "import sys\n",
    "sys.path.insert(1, '../')\n",
    "from utils import get_train_val_test_data\n",
    "\n",
    "NUM_DATASETS = 6\n",
    "DATASET_NAME = 'cognition'\n",
    "INTERVENTIONS = ['X_level_0', 'X_level_1', 'X_level_2']\n",
    "\n",
    "full_datasets, full_interv_masks = get_train_val_test_data(df, NUM_DATASETS, INTERVENTIONS)\n",
    "\n",
    "for dataset in range(NUM_DATASETS):\n",
    "    full_datasets[dataset].to_csv(f'{DATASET_NAME}_dataset{dataset}.csv', index=None)\n",
    "    full_interv_masks[dataset].to_csv(f'{DATASET_NAME}_dataset{dataset}_mask.csv', index=None)"
   ]
  },
  {
   "cell_type": "code",
   "execution_count": null,
   "metadata": {},
   "outputs": [],
   "source": []
  }
 ],
 "metadata": {
  "kernelspec": {
   "display_name": "Python (module anaconda/2020-03-tf1)",
   "language": "python",
   "name": "python3-tf1"
  },
  "language_info": {
   "codemirror_mode": {
    "name": "ipython",
    "version": 3
   },
   "file_extension": ".py",
   "mimetype": "text/x-python",
   "name": "python",
   "nbconvert_exporter": "python",
   "pygments_lexer": "ipython3",
   "version": "3.7.7"
  }
 },
 "nbformat": 4,
 "nbformat_minor": 4
}
